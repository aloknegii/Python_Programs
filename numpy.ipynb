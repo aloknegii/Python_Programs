{
 "cells": [
  {
   "cell_type": "code",
   "execution_count": 1,
   "id": "b47d33d9-c184-4dbd-9d14-48936d67d1c9",
   "metadata": {},
   "outputs": [],
   "source": [
    "import numpy as np\n"
   ]
  },
  {
   "cell_type": "code",
   "execution_count": 3,
   "id": "253721cf-6bc4-42ce-bcff-4c9f7fd742bb",
   "metadata": {},
   "outputs": [],
   "source": [
    "my_lst = [1,2,3,4,5]"
   ]
  },
  {
   "cell_type": "code",
   "execution_count": 5,
   "id": "a12d0902-1e3b-4347-86f5-9ba8fc245eeb",
   "metadata": {},
   "outputs": [],
   "source": [
    "arr = np.array(my_lst)"
   ]
  },
  {
   "cell_type": "code",
   "execution_count": 7,
   "id": "a8c11a3d-f3b0-48f8-9d48-812363531960",
   "metadata": {},
   "outputs": [
    {
     "data": {
      "text/plain": [
       "array([1, 2, 3, 4, 5])"
      ]
     },
     "execution_count": 7,
     "metadata": {},
     "output_type": "execute_result"
    }
   ],
   "source": [
    "arr"
   ]
  },
  {
   "cell_type": "code",
   "execution_count": 11,
   "id": "9fd8f00f-79c5-4929-90ba-f5277008ca94",
   "metadata": {},
   "outputs": [
    {
     "name": "stdout",
     "output_type": "stream",
     "text": [
      "[1 2 3 4 5]\n"
     ]
    }
   ],
   "source": [
    "print(arr)"
   ]
  },
  {
   "cell_type": "code",
   "execution_count": 19,
   "id": "868f5c99-d4fd-4b07-af43-c276d0d617e0",
   "metadata": {},
   "outputs": [],
   "source": [
    "arr=arr.reshape(5,1)"
   ]
  },
  {
   "cell_type": "code",
   "execution_count": 21,
   "id": "b496592d-9316-4c8c-8b34-0ae4e962f585",
   "metadata": {},
   "outputs": [
    {
     "name": "stdout",
     "output_type": "stream",
     "text": [
      "[[1]\n",
      " [2]\n",
      " [3]\n",
      " [4]\n",
      " [5]]\n"
     ]
    }
   ],
   "source": [
    "print(arr)"
   ]
  },
  {
   "cell_type": "code",
   "execution_count": 23,
   "id": "95814b6c-d067-4a71-8d59-24e735f7f3a5",
   "metadata": {},
   "outputs": [],
   "source": [
    "a = [1,2,3,4,5]"
   ]
  },
  {
   "cell_type": "code",
   "execution_count": 25,
   "id": "f312c041-f013-4f9b-8a62-3d66df70d3d8",
   "metadata": {},
   "outputs": [],
   "source": [
    "b= [6,9,10,11,15]\n",
    "c=[3,6,8,4,98]"
   ]
  },
  {
   "cell_type": "code",
   "execution_count": 33,
   "id": "408e836b-8313-4e14-a275-aaf68fef660b",
   "metadata": {},
   "outputs": [],
   "source": [
    "arr1 = np.array([a,b,c])"
   ]
  },
  {
   "cell_type": "code",
   "execution_count": 35,
   "id": "5474dc79-a8f3-4e39-bf56-2847af94fa4e",
   "metadata": {},
   "outputs": [
    {
     "data": {
      "text/plain": [
       "array([[ 1,  2,  3,  4,  5],\n",
       "       [ 6,  9, 10, 11, 15],\n",
       "       [ 3,  6,  8,  4, 98]])"
      ]
     },
     "execution_count": 35,
     "metadata": {},
     "output_type": "execute_result"
    }
   ],
   "source": [
    "arr1"
   ]
  },
  {
   "cell_type": "code",
   "execution_count": 37,
   "id": "531e033d-eca3-4bbe-ad47-9348744dfc1d",
   "metadata": {},
   "outputs": [
    {
     "name": "stdout",
     "output_type": "stream",
     "text": [
      "[[ 1  2  3  4  5]\n",
      " [ 6  9 10 11 15]\n",
      " [ 3  6  8  4 98]]\n"
     ]
    }
   ],
   "source": [
    "print(arr1)"
   ]
  },
  {
   "cell_type": "code",
   "execution_count": 55,
   "id": "d48caff3-96a2-48a9-bc4d-852faf23ff9f",
   "metadata": {},
   "outputs": [
    {
     "data": {
      "text/plain": [
       "array([[ 1],\n",
       "       [ 9],\n",
       "       [17],\n",
       "       [25],\n",
       "       [33],\n",
       "       [41],\n",
       "       [49],\n",
       "       [57],\n",
       "       [65],\n",
       "       [73],\n",
       "       [81],\n",
       "       [89],\n",
       "       [97]])"
      ]
     },
     "execution_count": 55,
     "metadata": {},
     "output_type": "execute_result"
    }
   ],
   "source": [
    "np.arange(1,99,8).reshape(13,1)"
   ]
  },
  {
   "cell_type": "code",
   "execution_count": 49,
   "id": "bbe7e81e-4b1a-4263-abe3-7c3caaefa3f1",
   "metadata": {},
   "outputs": [
    {
     "data": {
      "text/plain": [
       "array([[1, 1, 1, 1],\n",
       "       [1, 1, 1, 1],\n",
       "       [1, 1, 1, 1],\n",
       "       [1, 1, 1, 1]])"
      ]
     },
     "execution_count": 49,
     "metadata": {},
     "output_type": "execute_result"
    }
   ],
   "source": [
    "np.ones((4,4),dtype=int)"
   ]
  },
  {
   "cell_type": "code",
   "execution_count": 57,
   "id": "4ffcb725-5c48-422f-aa3a-bc082b0e33c6",
   "metadata": {},
   "outputs": [
    {
     "data": {
      "text/plain": [
       "array([[0.09268655, 0.6778679 , 0.41272207],\n",
       "       [0.46307657, 0.83145571, 0.77752297],\n",
       "       [0.76449258, 0.30413747, 0.41818484]])"
      ]
     },
     "execution_count": 57,
     "metadata": {},
     "output_type": "execute_result"
    }
   ],
   "source": [
    "np.random.rand(3,3)"
   ]
  },
  {
   "cell_type": "code",
   "execution_count": 59,
   "id": "4ee9e5c8-385a-4ead-9336-929f45fca3e5",
   "metadata": {},
   "outputs": [
    {
     "data": {
      "text/plain": [
       "array([[ 0.86141739,  0.16622188, -1.04259907],\n",
       "       [-0.09099462,  1.23430244, -0.32436082],\n",
       "       [-1.91261618,  0.10770045, -0.64215875]])"
      ]
     },
     "execution_count": 59,
     "metadata": {},
     "output_type": "execute_result"
    }
   ],
   "source": [
    "np.random.randn(3,3)"
   ]
  },
  {
   "cell_type": "code",
   "execution_count": null,
   "id": "9a58b781-773b-41ed-9ab3-7bed47afc6cc",
   "metadata": {},
   "outputs": [],
   "source": []
  },
  {
   "cell_type": "code",
   "execution_count": null,
   "id": "7e099584-3b7a-46a7-8fc5-6c2c0e52d85a",
   "metadata": {},
   "outputs": [],
   "source": []
  }
 ],
 "metadata": {
  "kernelspec": {
   "display_name": "Python 3 (ipykernel)",
   "language": "python",
   "name": "python3"
  },
  "language_info": {
   "codemirror_mode": {
    "name": "ipython",
    "version": 3
   },
   "file_extension": ".py",
   "mimetype": "text/x-python",
   "name": "python",
   "nbconvert_exporter": "python",
   "pygments_lexer": "ipython3",
   "version": "3.12.4"
  }
 },
 "nbformat": 4,
 "nbformat_minor": 5
}
